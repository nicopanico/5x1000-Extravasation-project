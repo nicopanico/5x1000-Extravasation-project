{
 "cells": [
  {
   "cell_type": "markdown",
   "metadata": {},
   "source": [
    "# Costruzione del database \n",
    "Questo database verrà utilizzato per creare gli algoritmi di Machine Learning. All'interno del database si trova il nome del paziente come indice di riga e il nome della variabile sulle colonne. Inoltre, sono stati calcolati alcuni parametri come:\n",
    "* $\\Delta t$ cioè la differenza di dose in $\\mu Sv/h$ tra la curva di iniezione e controlaterale dopo 1min, 2min ... 6min\n",
    "* $\\Delta p$ cioè la differenza di dose in $\\mu Sv/h$ fra il picco della curva di iniezione e il valore di dose medio del plateau\n"
   ]
  },
  {
   "cell_type": "code",
   "execution_count": null,
   "metadata": {},
   "outputs": [],
   "source": [
    "import numpy as np\n",
    "import pandas as pd\n",
    "import os\n",
    "import matplotlib.pyplot as plt\n",
    "from datetime import datetime, timedelta\n",
    "import time\n",
    "from sklearn import linear_model\n",
    "from sklearn.metrics import r2_score\n",
    "from scipy.ndimage import gaussian_filter\n",
    "from scipy.ndimage import gaussian_filter1d\n",
    "from scipy.signal import savgol_filter"
   ]
  },
  {
   "cell_type": "code",
   "execution_count": null,
   "metadata": {},
   "outputs": [],
   "source": [
    "#files da elaborare\n",
    "root_controlaterals = \"C:/Users/39333/OneDrive - Università degli Studi di Padova/Documenti/Progetto Specialistica/Nuovi/analisi_totale/contr\"\n",
    "root_injections = \"C:/Users/39333/OneDrive - Università degli Studi di Padova/Documenti/Progetto Specialistica/Nuovi/analisi_totale/inj\""
   ]
  },
  {
   "cell_type": "code",
   "execution_count": null,
   "metadata": {},
   "outputs": [],
   "source": [
    "# Definire il nome delle acquisizioni e l'attività iniettata salvandoli in due array \n",
    "names = []\n",
    "activities = []\n",
    "for file_1 in os.listdir(root_injections):\n",
    "    for file_2 in os.listdir(root_controlaterals):\n",
    "        file_2 = file_2.split('_contr')[0] + '.csv'\n",
    "        if file_1 == file_2:\n",
    "            name, suffix = file_1.split('-')\n",
    "            activity = int(suffix.split('MBq')[0])\n",
    "            names.append(name)\n",
    "            activities.append(activity)\n"
   ]
  },
  {
   "cell_type": "code",
   "execution_count": null,
   "metadata": {},
   "outputs": [],
   "source": [
    "path_grafici = \"C:/Users/39333/OneDrive - Università degli Studi di Padova/Documenti/Progetto Specialistica/Nuovi/acquisizioni 07 e 11-2023/grafici\"\n",
    "database_con = pd.DataFrame()\n",
    "database_inj = pd.DataFrame()\n",
    "for n in names:\n",
    "    for file_1 in os.listdir(root_injections):\n",
    "        for file_2 in os.listdir(root_controlaterals):\n",
    "            if n in file_1 and n in file_2:\n",
    "\n",
    "                path_inj = os.path.join(root_injections, file_1)\n",
    "                path_con = os.path.join(root_controlaterals, file_2)\n",
    "                \n",
    "                if n == '26_10_23_18F_10':\n",
    "                    df_inj = pd.read_csv(path_inj,encoding = \"ISO-8859-1\", sep=';')\n",
    "                else:\n",
    "                    df_inj = pd.read_csv(path_inj, sep=';')\n",
    "                    \n",
    "                df_con = pd.read_csv(path_con, sep=';')\n",
    "                \n",
    "                control_inj = df_inj.columns[0]\n",
    "                control_con = df_con.columns[0]\n",
    "                \n",
    "                if \"line\" in control_inj:\n",
    "                    df_inj = pd.read_csv(path_inj, sep=';')\n",
    "                    df_inj['Record time'] = pd.to_datetime(df_inj['Record time'])\n",
    "                    df_inj.set_index('Record time', drop=True, inplace=True)\n",
    "                    df_inj = df_inj.sort_index(ascending = True)\n",
    "                    df_inj.index = pd.to_datetime(df_inj.index)\n",
    "                    df_inj_Max = pd.to_numeric(df_inj['Dose Rate Max Value '])\n",
    "\n",
    "                if \"line\" in control_con:\n",
    "                    df_con = pd.read_csv(path_con, sep=';')\n",
    "                    df_con['Record time'] = pd.to_datetime(df_con['Record time'])\n",
    "                    df_con.set_index('Record time', drop=True, inplace=True)\n",
    "                    df_con = df_con.sort_index(ascending = True)\n",
    "                    df_con.index = pd.to_datetime(df_con.index)\n",
    "                    df_con_Max = pd.to_numeric(df_con['Dose Rate Max Value '])\n",
    "\n",
    "\n",
    "                    \n",
    "                if \"Filename\" in control_inj:\n",
    "                    df_inj = pd.read_csv(path_inj, sep=';', skiprows=lambda x: x in [0,2], header=1)\n",
    "                    df_inj['Date / Time'] = pd.to_datetime(df_inj['Date / Time'])\n",
    "                    df_inj.set_index('Date / Time', drop=True, inplace=True)\n",
    "                    df_inj = df_inj.sort_index(ascending = True)\n",
    "                    df_inj.index = pd.to_datetime(df_inj.index)\n",
    "                    df_inj_ratemeter = df_inj[df_inj['Type']=='Ratemeter']\n",
    "                    df_inj_Max = pd.to_numeric(df_inj_ratemeter['DR_Max'].apply(lambda x: x.replace(',', '.')))\n",
    "                    \n",
    "\n",
    "                if \"Filename\" in control_con:\n",
    "                    df_con = pd.read_csv(path_con, sep=';', skiprows=lambda x: x in [0,2], header=1)\n",
    "                    df_con['Date / Time'] = pd.to_datetime(df_con['Date / Time']) \n",
    "                    df_con.set_index('Date / Time', drop=True, inplace=True)\n",
    "                    df_con = df_con.sort_index(ascending = True)\n",
    "                    df_con.index = pd.to_datetime(df_con.index)\n",
    "                    df_con_ratemeter = df_con[df_con['Type']=='Ratemeter']\n",
    "                    df_con_Max = pd.to_numeric(df_con_ratemeter['DR_Max'].apply(lambda x: x.replace(',', '.')))\n",
    "\n",
    "\n",
    "                    \n",
    "                if \"line\" not in control_inj and \"Filename\" not in control_inj:\n",
    "                    if n == '26_10_23_18F_10':\n",
    "                        df_inj = pd.read_csv(path_inj,encoding = \"ISO-8859-1\", sep=';')\n",
    "                        df_inj['Timestamp'] = pd.to_datetime(df_inj['Timestamp'])\n",
    "                        df_inj.set_index('Timestamp', drop=True, inplace=True)\n",
    "                        df_inj = df_inj.sort_index(ascending = True)\n",
    "                        df_inj.index = pd.to_datetime(df_inj.index)\n",
    "                        df_inj_Max = pd.to_numeric(df_inj['Intensità di dose (?Sv/h)'].apply(lambda x: x.replace(',', '.')))\n",
    "                    else: \n",
    "                        df_inj = pd.read_csv(path_inj, sep=',')\n",
    "                        df_inj['Timestamp'] = pd.to_datetime(df_inj['Timestamp'])\n",
    "                        df_inj.set_index('Timestamp', drop=True, inplace=True)\n",
    "                        df_inj = df_inj.sort_index(ascending = True)\n",
    "                        df_inj.index = pd.to_datetime(df_inj.index)\n",
    "                        df_inj_Max = pd.to_numeric(df_inj['Intensità di dose (μSv/h)'].apply(lambda x: x.replace(',', '.')))\n",
    "                    \n",
    "                if \"line\" not in control_con and \"Filename\" not in control_con:\n",
    "                    df_con = pd.read_csv(path_con, sep=',')\n",
    "                    df_con['Timestamp'] = pd.to_datetime(df_con['Timestamp'])\n",
    "                    df_con.set_index('Timestamp', drop=True, inplace=True)\n",
    "                    df_con = df_con.sort_index(ascending = True)\n",
    "                    df_con.index = pd.to_datetime(df_con.index)\n",
    "                    df_con_Max = pd.to_numeric(df_con['Intensità di dose (μSv/h)'].apply(lambda x: x.replace(',', '.')))\n",
    "                    \n",
    "                \n",
    "                start_inj = df_inj_Max.index[0]\n",
    "                start_con = df_con_Max.index[0]\n",
    "\n",
    "                \n",
    "                delta = np.absolute(start_inj-start_con)\n",
    "                minutes_1 = delta.total_seconds() / 60\n",
    "                \n",
    "                if (float(minutes_1)>float(50)) and (start_inj > start_con):\n",
    "                    df_inj_Max.index = df_inj_Max.index - timedelta(minutes=58.4)\n",
    "                    \n",
    "                    \n",
    "                elif (float(minutes_1)>float(50)) and (start_inj < start_con):\n",
    "                    df_con_Max.index = df_con_Max.index - timedelta(minutes=58.4) \n",
    "                    \n",
    "                \n",
    "                substring = \"20_03\"\n",
    "                substring_1 = \"23_03\"\n",
    "\n",
    "                    \n",
    "                if substring in n or substring_1 in n:\n",
    "                    if n!=\"20_03_18F_01\" or n!=\"20_03_18F_05\" or n!=\"20_03_18F_02\":\n",
    "                        df_con_Max.index = df_con_Max.index + timedelta(minutes=3) \n",
    "                    \n",
    "                start_inj = df_inj_Max.index[0]\n",
    "                start_con = df_con_Max.index[0]\n",
    "                \n",
    "                if start_inj < start_con:\n",
    "                    df_con_1 = df_con_Max.loc[df_con_Max.index[0]:].reset_index(drop=True)\n",
    "                    df_inj_1 = df_inj_Max.loc[df_con_Max.index[0]:].reset_index(drop=True)\n",
    "                      \n",
    "                elif start_inj > start_con:\n",
    "                    df_con_1 = df_con_Max.loc[df_inj_Max.index[0]:].reset_index(drop=True)\n",
    "                    df_inj_1 = df_inj_Max.loc[df_inj_Max.index[0]:].reset_index(drop=True)\n",
    "                \n",
    "                elif start_inj == start_con:\n",
    "                    df_con_1 = df_con_Max.reset_index(drop=True)\n",
    "                    df_inj_1 = df_inj_Max.reset_index(drop=True)\n",
    "     \n",
    "                \n",
    "                if n == '22_09_18F_04':\n",
    "                    diff = df_inj_1.diff()\n",
    "                    maximum = diff.max()\n",
    "                    maximum_time = diff.idxmax()\n",
    "                    \n",
    "                elif n == '26_10_23_18F_10':\n",
    "                    #diff = df_inj.diff()\n",
    "                    #maximum = df_inj.max()\n",
    "                    maximum_time = df_inj_1.index[0]+60\n",
    "                    print(maximum_time)\n",
    "      \n",
    "                else: \n",
    "                    maximum = df_inj_1.max()\n",
    "                    maximum_time = df_inj_1.idxmax()\n",
    "                    \n",
    "                if maximum<900:\n",
    "                    print(n)\n",
    "                    print(maximum)\n",
    "                    print(df_inj_1)\n",
    "                    \n",
    "                inj1 = df_inj_1.loc[maximum_time - 60: maximum_time + 540]\n",
    "                con1 = df_con_1.loc[maximum_time - 60: maximum_time + 540]\n",
    "                \n",
    "                inj1.loc[180:] = gaussian_filter(inj1.loc[180:], sigma=5)\n",
    "                con1.loc[180:] = gaussian_filter(con1.loc[180:], sigma=5)\n",
    "                \n",
    "               \n",
    "                \n",
    "                df_inj_2 = pd.DataFrame(inj1).reset_index(drop=True)\n",
    "                df_con_2 = pd.DataFrame(con1).reset_index(drop=True)\n",
    "            \n",
    "                df_inj_2.columns= [n]\n",
    "                df_con_2.columns= [n]\n",
    "\n",
    "\n",
    "                database_con = pd.concat([database_con, df_con_2], axis=1)\n",
    "                database_inj = pd.concat([database_inj, df_inj_2], axis=1)\n",
    "                \n",
    "#                 figure_name = n\n",
    "                \n",
    "#                 fig = plt.figure(figsize=(20,10))\n",
    "#                 plt.ioff()\n",
    "#                 plt.plot(database_inj[n],color='orange', linewidth= 3, label='Injection')\n",
    "#                 plt.plot(database_con[n],color= 'blue',linestyle = 'dashed', linewidth= 3, label='Contralateral')\n",
    "#                 plt.yscale('log')\n",
    "\n",
    "#                 plt.xlabel(\"Time [s]\", size = 30)\n",
    "#                 plt.ylabel(r\"Dose Rate [$\\mu$ Sv/h]\", size = 30)\n",
    "#                 plt.xticks(fontsize=30)\n",
    "#                 plt.yticks(fontsize=30)\n",
    "#                 plt.xlim((0,600))\n",
    "#                 plt.legend(fontsize=30)\n",
    "#                 fig.savefig(path_grafici+'/'+ figure_name+'.png')\n",
    "#                 plt.close()   "
   ]
  },
  {
   "cell_type": "code",
   "execution_count": null,
   "metadata": {},
   "outputs": [],
   "source": [
    "# creazione riga del dataframe con tutte le attività\n",
    "df_activity = pd.DataFrame(data = [activities], columns=names, index=['Activity (MBq)'])\n",
    "df_activity"
   ]
  },
  {
   "cell_type": "code",
   "execution_count": null,
   "metadata": {},
   "outputs": [],
   "source": [
    "#ci andiamo a calcolare tutti i valori delta t per ogni istante di tempo. In pratica delta t è definito come la differenza\n",
    "#tra il valore di dose acquisito sul braccio di iniezione e il valore di dose acquisito sul braccio controlaterale\n",
    "#allo stesso istante di tempo\n",
    "subset_inj = database_inj.iloc[60:len(database_inj)]\n",
    "subset_con = database_con.iloc[60:len(database_con)]\n",
    "subset_delta = np.abs(subset_inj - subset_con).reset_index(drop=True)"
   ]
  },
  {
   "cell_type": "code",
   "execution_count": null,
   "metadata": {},
   "outputs": [],
   "source": [
    "# Differenza tra delta t consecutivi, per vedere quanto decresce la differenza. Studiamo l'andamento delle differenze fra\n",
    "#i valori di dose di iniezione e controlaterali\n",
    "d = abs(subset_delta.diff())\n",
    "d.drop(0,inplace = True)\n",
    "d.reset_index(inplace = True)\n",
    "d.drop('index',axis=1,inplace=True)\n",
    "d"
   ]
  },
  {
   "cell_type": "code",
   "execution_count": null,
   "metadata": {},
   "outputs": [],
   "source": [
    "print(d.head(0))"
   ]
  },
  {
   "cell_type": "code",
   "execution_count": null,
   "metadata": {},
   "outputs": [],
   "source": [
    "#crea la tabella con i valori di delta t trovati sopra\n",
    "#usiamo la differenza di dose allo stesso tempo tra iniezione e controlaterale\n",
    "risultati = pd.DataFrame()\n",
    "indice_iniziale = 60\n",
    "for paziente in d.head(0):\n",
    "    delta_dopo_plateau_60 = subset_delta[paziente].loc[indice_iniziale + 60] # / medie_timepoints[1]\n",
    "    delta_dopo_plateau_120 = subset_delta[paziente].loc[indice_iniziale + 120] # / medie_timepoints[2]\n",
    "    delta_dopo_plateau_180 = subset_delta[paziente].loc[indice_iniziale + 180] # / medie_timepoints[3]\n",
    "    delta_dopo_plateau_240 = subset_delta[paziente].loc[indice_iniziale + 240] # / medie_timepoints[4]\n",
    "    delta_dopo_plateau_300 = subset_delta[paziente].loc[indice_iniziale + 300] # / medie_timepoints[5]\n",
    "    delta_dopo_plateau_360 = subset_delta[paziente].loc[indice_iniziale + 360] # / medie_timepoints[6]\n",
    "    media_tempi = (delta_dopo_plateau_60+delta_dopo_plateau_120+delta_dopo_plateau_180+delta_dopo_plateau_240+delta_dopo_plateau_300+delta_dopo_plateau_360)/6\n",
    "    info = [delta_dopo_plateau_60, delta_dopo_plateau_120, delta_dopo_plateau_180, delta_dopo_plateau_240, delta_dopo_plateau_300, delta_dopo_plateau_360,media_tempi]\n",
    "    df = pd.DataFrame([info], index = [paziente], columns=['delta_dopo_1min', 'delta_dopo_2min' , 'delta_dopo_3min', 'delta_dopo_4min', 'delta_dopo_5min', 'delta_dopo_6min','media tempi'])\n",
    "    risultati= pd.concat([risultati, df], axis=0)"
   ]
  },
  {
   "cell_type": "code",
   "execution_count": null,
   "metadata": {},
   "outputs": [],
   "source": [
    "# Differenza tra delta t consecutivi, per vedere quanto decresce la differenza. Studiamo l'andamento delle differenze fra\n",
    "#i valori di dose di iniezione e controlaterali\n",
    "database_inj = database_inj.apply(pd.to_numeric)\n",
    "d_inj = database_inj.iloc[60:len(database_inj)].reset_index(drop=True)\n",
    "d_inj= np.abs(d_inj.diff())\n",
    "d_inj.drop(0,inplace = True)\n",
    "d_inj.reset_index(inplace = True)\n",
    "d_inj.drop('index',axis=1,inplace=True)"
   ]
  },
  {
   "cell_type": "code",
   "execution_count": null,
   "metadata": {},
   "outputs": [],
   "source": [
    "#picco, init_ind inizio del Plateau (calcolato prima)\n",
    "#120+init_ind arriviamo al punto di inizio plateau fino a 6 minuti dopo e ci faccio la media. \n",
    "#Faccio una media dell'andamento \n",
    "df_parametri = pd.DataFrame()\n",
    "indice_iniziale = 60\n",
    "for paziente in d_inj.head(0):\n",
    "    picco = database_inj[paziente].max()\n",
    "    delta_p_60 = np.absolute(picco-database_inj[paziente].loc[60+indice_iniziale]) # / medie_timepoints[1]\n",
    "    delta_p_120 = np.abs(picco-database_inj[paziente].loc[120+indice_iniziale]) # / medie_timepoints[2]\n",
    "    delta_p_180 = np.abs(picco-database_inj[paziente].loc[180+indice_iniziale]) # / medie_timepoints[3]\n",
    "    delta_p_240 = np.abs(picco-database_inj[paziente].loc[indice_iniziale + 240]) # / medie_timepoints[4]\n",
    "    delta_p_300 = np.abs(picco-database_inj[paziente].loc[indice_iniziale + 300]) # / medie_timepoints[5]\n",
    "    delta_p_360 = np.abs(picco-database_inj[paziente].loc[indice_iniziale + 360])\n",
    "    media = np.mean(database_inj[paziente].iloc[60+indice_iniziale:60+indice_iniziale+300])\n",
    "    \n",
    "    info = [picco, np.absolute(picco-media),delta_p_60,delta_p_120,delta_p_180,delta_p_240,delta_p_300,delta_p_360] #delta p picco-media\n",
    "    \n",
    "    df = pd.DataFrame([info], index = [paziente], columns=['picco','differenza picco_plateau','dp_1min','dp_2min','dp_3min','dp_4min','dp_5min','dp_6min' ])\n",
    "    df_parametri= pd.concat([df_parametri, df], axis=0)"
   ]
  },
  {
   "cell_type": "code",
   "execution_count": null,
   "metadata": {},
   "outputs": [],
   "source": [
    "df_parametri"
   ]
  },
  {
   "cell_type": "code",
   "execution_count": null,
   "metadata": {},
   "outputs": [],
   "source": [
    "df_activity_t = df_activity.transpose()\n",
    "df_activity_t;"
   ]
  },
  {
   "cell_type": "code",
   "execution_count": null,
   "metadata": {
    "scrolled": true
   },
   "outputs": [],
   "source": [
    "df_totale = pd.concat([df_parametri, df_activity_t, risultati],axis=1)\n",
    "df_tot_activity=pd.concat([df_parametri, df_activity_t, risultati],axis=1)\n",
    "df_tot_picco=pd.concat([df_parametri, df_activity_t, risultati],axis=1)"
   ]
  },
  {
   "cell_type": "code",
   "execution_count": null,
   "metadata": {},
   "outputs": [],
   "source": [
    "df_totale"
   ]
  },
  {
   "cell_type": "code",
   "execution_count": null,
   "metadata": {},
   "outputs": [],
   "source": [
    "#normalizzazione rispetto all'attività\n",
    "for i in df_tot_activity.columns:\n",
    "    if i != 'picco'and i!='Activity (MBq)':\n",
    "        df_tot_activity[i] = (df_tot_activity[i]/(df_tot_activity['Activity (MBq)']*df_tot_activity['picco']))*100\n",
    "    if i=='Activity (MBq)':\n",
    "        break"
   ]
  },
  {
   "cell_type": "code",
   "execution_count": null,
   "metadata": {},
   "outputs": [],
   "source": [
    "df_tot_activity"
   ]
  },
  {
   "cell_type": "code",
   "execution_count": null,
   "metadata": {},
   "outputs": [],
   "source": [
    "#normalizzazione rispetto all'attività\n",
    "for i in df_tot_picco.columns:\n",
    "    if i != 'picco'and i!='Activity (MBq)':\n",
    "        df_tot_picco[i] = df_tot_picco[i]/df_tot_picco['picco']"
   ]
  },
  {
   "cell_type": "code",
   "execution_count": null,
   "metadata": {},
   "outputs": [],
   "source": [
    "df_tot_picco"
   ]
  },
  {
   "cell_type": "code",
   "execution_count": null,
   "metadata": {},
   "outputs": [],
   "source": [
    "df_totale.rename(columns = {0:'delta_p normalized'}, inplace = True)\n",
    "#df_totale.drop('outcome', inplace=True, axis=1)"
   ]
  },
  {
   "cell_type": "code",
   "execution_count": null,
   "metadata": {},
   "outputs": [],
   "source": [
    "df_tot_activity.to_excel('C:/Users/39333/OneDrive - Università degli Studi di Padova/Documenti/Progetto Specialistica/Nuovi/acquisizioni 07 e 11-2023/nuova_normalizzazione_old.xlsx', sheet_name='sheet1', index=True)\n",
    "#df_tot_picco.to_excel('C:/Users/39333/OneDrive - Università degli Studi di Padova/Documenti/Progetto Specialistica/Nuovi/acquisizioni 07 e 11-2023/prova_norm_picco_new.xlsx', sheet_name='sheet1', index=True)"
   ]
  },
  {
   "cell_type": "markdown",
   "metadata": {},
   "source": [
    "# Associare outcome a pazienti "
   ]
  },
  {
   "cell_type": "code",
   "execution_count": null,
   "metadata": {},
   "outputs": [],
   "source": [
    "file = \"C:/Users/39333/OneDrive - Università degli Studi di Padova/Documenti/Progetto Specialistica/Nuovi/acquisizioni 07 e 11-2023/nuova_normalizzazione_totale.xlsx\"\n",
    "outcome = \"C:/Users/39333/OneDrive - Università degli Studi di Padova/Documenti/Progetto Specialistica/Nuovi/acquisizioni 07 e 11-2023/outcome.xlsx\"\n",
    "\n",
    "data = pd.read_excel(file)\n",
    "out = pd.read_excel(outcome)\n",
    "names_data = data.iloc[:,0]\n",
    "names_out = out.iloc[:,0]\n",
    "lista=[]\n",
    "nomi = []\n",
    "\n",
    "for i in range(len(data)):\n",
    "    for j in range(len(out)):\n",
    "\n",
    "        if  names_out[j]==names_data[i]:\n",
    "            lista.append(out.iloc[j,1])\n",
    "            nomi.append(names_out[j])"
   ]
  },
  {
   "cell_type": "code",
   "execution_count": null,
   "metadata": {},
   "outputs": [],
   "source": [
    "#controllo\n",
    "for i in names_data:\n",
    "    if i in nomi:\n",
    "        print(\"ok\")\n",
    "    else:\n",
    "        print(i)"
   ]
  },
  {
   "cell_type": "code",
   "execution_count": null,
   "metadata": {},
   "outputs": [],
   "source": [
    "data.insert(2, \"outcome\", lista, True)"
   ]
  },
  {
   "cell_type": "code",
   "execution_count": null,
   "metadata": {},
   "outputs": [],
   "source": [
    "data.to_excel('C:/Users/39333/OneDrive - Università degli Studi di Padova/Documenti/Progetto Specialistica/Nuovi/acquisizioni 07 e 11-2023/nuova_norm_totale_output.xlsx', sheet_name='sheet1', index=True)"
   ]
  },
  {
   "cell_type": "markdown",
   "metadata": {},
   "source": [
    "## Associare p e  t al SUV"
   ]
  },
  {
   "cell_type": "code",
   "execution_count": null,
   "metadata": {},
   "outputs": [],
   "source": [
    "file = \"C:/Users/39333/OneDrive - Università degli Studi di Padova/Desktop/nuova_norm_totale_output.xlsx\"\n",
    "outcome = \"C:/Users/39333/OneDrive - Università degli Studi di Padova/Documenti/Progetto Specialistica/Nuovi/acquisizioni 07 e 11-2023/Tabella metriche stravaso_soglia10.xlsx\""
   ]
  },
  {
   "cell_type": "code",
   "execution_count": null,
   "metadata": {},
   "outputs": [],
   "source": [
    "data = pd.read_excel(file)\n",
    "out = pd.read_excel(outcome)"
   ]
  },
  {
   "cell_type": "code",
   "execution_count": null,
   "metadata": {},
   "outputs": [],
   "source": [
    "names_data = data.iloc[:,1]\n",
    "names_out = out.iloc[:,1]"
   ]
  },
  {
   "cell_type": "code",
   "execution_count": null,
   "metadata": {},
   "outputs": [],
   "source": [
    "lista_p=[]\n",
    "lista_t=[]\n",
    "nomi = []\n",
    "for i in range(len(data)):\n",
    "    for j in range(len(out)):\n",
    "        nomee = names_out[j].split(\"-\")\n",
    "        if  nomee[0]==names_data[i]:\n",
    "            lista_p.append(data.iloc[j,4])\n",
    "            lista_t.append(data.iloc[j,18])\n",
    "            nomi.append(nomee[0])"
   ]
  },
  {
   "cell_type": "code",
   "execution_count": null,
   "metadata": {},
   "outputs": [],
   "source": [
    "lista_p"
   ]
  },
  {
   "cell_type": "code",
   "execution_count": null,
   "metadata": {},
   "outputs": [],
   "source": [
    "out.insert(15, \"p\", lista_p, True)"
   ]
  },
  {
   "cell_type": "code",
   "execution_count": null,
   "metadata": {},
   "outputs": [],
   "source": [
    "out.to_excel('C:/Users/39333/OneDrive - Università degli Studi di Padova/Documenti/Progetto Specialistica/Nuovi/acquisizioni 07 e 11-2023/prova_prova.xlsx', sheet_name='sheet1', index=True)"
   ]
  },
  {
   "cell_type": "markdown",
   "metadata": {},
   "source": [
    "# TERAPIA"
   ]
  },
  {
   "cell_type": "code",
   "execution_count": null,
   "metadata": {},
   "outputs": [],
   "source": [
    "#files da elaborare\n",
    "root_controlaterals = \"C:/Users/39333/OneDrive - Università degli Studi di Padova/Documenti/Progetto Specialistica/Nuovi/acquisizioni 07 e 11-2023/Terapia/contr\"\n",
    "root_injections = \"C:/Users/39333/OneDrive - Università degli Studi di Padova/Documenti/Progetto Specialistica/Nuovi/acquisizioni 07 e 11-2023/Terapia/inj\""
   ]
  },
  {
   "cell_type": "code",
   "execution_count": null,
   "metadata": {},
   "outputs": [],
   "source": [
    "# Definire il nome delle acquisizioni e l'attività iniettata salvandoli in due array \n",
    "names = []\n",
    "activities = []\n",
    "for file_1 in os.listdir(root_injections):\n",
    "    for file_2 in os.listdir(root_controlaterals):\n",
    "        file_2 = file_2.split('_contr')[0] + '.csv'\n",
    "        if file_1 == file_2:\n",
    "            name, suffix = file_1.split('-')\n",
    "            activity = int(suffix.split('MBq')[0])\n",
    "            names.append(name)\n",
    "            activities.append(activity)\n"
   ]
  },
  {
   "cell_type": "code",
   "execution_count": null,
   "metadata": {},
   "outputs": [],
   "source": [
    "path_grafici = \"C:/Users/39333/OneDrive - Università degli Studi di Padova/Documenti/Progetto Specialistica/Nuovi/acquisizioni 07 e 11-2023/Terapia/grafici\"\n",
    "database_con = pd.DataFrame()\n",
    "database_inj = pd.DataFrame()\n",
    "for n in names:\n",
    "    for file_1 in os.listdir(root_injections):\n",
    "        for file_2 in os.listdir(root_controlaterals):\n",
    "            if n in file_1 and n in file_2:\n",
    "\n",
    "                path_inj = os.path.join(root_injections, file_1)\n",
    "                path_con = os.path.join(root_controlaterals, file_2)\n",
    "                \n",
    "                if n == '26_10_23_18F_10':\n",
    "                    df_inj = pd.read_csv(path_inj,encoding = \"ISO-8859-1\", sep=';')\n",
    "                else:\n",
    "                    df_inj = pd.read_csv(path_inj, sep=';')\n",
    "                    \n",
    "                df_con = pd.read_csv(path_con, sep=';')\n",
    "                \n",
    "                control_inj = df_inj.columns[0]\n",
    "                control_con = df_con.columns[0]\n",
    "                \n",
    "                if \"line\" in control_inj:\n",
    "                    df_inj = pd.read_csv(path_inj, sep=';')\n",
    "                    df_inj['Record time'] = pd.to_datetime(df_inj['Record time'])\n",
    "                    df_inj.set_index('Record time', drop=True, inplace=True)\n",
    "                    df_inj = df_inj.sort_index(ascending = True)\n",
    "                    df_inj.index = pd.to_datetime(df_inj.index)\n",
    "                    df_inj_Max = pd.to_numeric(df_inj['Dose Rate Max Value '])\n",
    "\n",
    "                if \"line\" in control_con:\n",
    "                    df_con = pd.read_csv(path_con, sep=';')\n",
    "                    df_con['Record time'] = pd.to_datetime(df_con['Record time'])\n",
    "                    df_con.set_index('Record time', drop=True, inplace=True)\n",
    "                    df_con = df_con.sort_index(ascending = True)\n",
    "                    df_con.index = pd.to_datetime(df_con.index)\n",
    "                    df_con_Max = pd.to_numeric(df_con['Dose Rate Max Value '])\n",
    "\n",
    "\n",
    "                    \n",
    "                if \"Filename\" in control_inj:\n",
    "                    df_inj = pd.read_csv(path_inj, sep=';', skiprows=lambda x: x in [0,2], header=1)\n",
    "                    df_inj['Date / Time'] = pd.to_datetime(df_inj['Date / Time'])\n",
    "                    df_inj.set_index('Date / Time', drop=True, inplace=True)\n",
    "                    df_inj = df_inj.sort_index(ascending = True)\n",
    "                    df_inj.index = pd.to_datetime(df_inj.index)\n",
    "                    df_inj_ratemeter = df_inj[df_inj['Type']=='Ratemeter']\n",
    "                    df_inj_Max = pd.to_numeric(df_inj_ratemeter['DR_Max'].apply(lambda x: x.replace(',', '.')))\n",
    "                    \n",
    "\n",
    "                if \"Filename\" in control_con:\n",
    "                    df_con = pd.read_csv(path_con, sep=';', skiprows=lambda x: x in [0,2], header=1)\n",
    "                    df_con['Date / Time'] = pd.to_datetime(df_con['Date / Time']) \n",
    "                    df_con.set_index('Date / Time', drop=True, inplace=True)\n",
    "                    df_con = df_con.sort_index(ascending = True)\n",
    "                    df_con.index = pd.to_datetime(df_con.index)\n",
    "                    df_con_ratemeter = df_con[df_con['Type']=='Ratemeter']\n",
    "                    df_con_Max = pd.to_numeric(df_con_ratemeter['DR_Max'].apply(lambda x: x.replace(',', '.')))\n",
    "\n",
    "\n",
    "                    \n",
    "                if \"line\" not in control_inj and \"Filename\" not in control_inj:\n",
    "                    if n == '26_10_23_18F_10':\n",
    "                        df_inj = pd.read_csv(path_inj,encoding = \"ISO-8859-1\", sep=';')\n",
    "                        df_inj['Timestamp'] = pd.to_datetime(df_inj['Timestamp'])\n",
    "                        df_inj.set_index('Timestamp', drop=True, inplace=True)\n",
    "                        df_inj = df_inj.sort_index(ascending = True)\n",
    "                        df_inj.index = pd.to_datetime(df_inj.index)\n",
    "                        df_inj_Max = pd.to_numeric(df_inj['Intensità di dose (?Sv/h)'].apply(lambda x: x.replace(',', '.')))\n",
    "                    else: \n",
    "                        df_inj = pd.read_csv(path_inj, sep=',')\n",
    "                        df_inj['Timestamp'] = pd.to_datetime(df_inj['Timestamp'])\n",
    "                        df_inj.set_index('Timestamp', drop=True, inplace=True)\n",
    "                        df_inj = df_inj.sort_index(ascending = True)\n",
    "                        df_inj.index = pd.to_datetime(df_inj.index)\n",
    "                        df_inj_Max = pd.to_numeric(df_inj['Intensità di dose (μSv/h)'].apply(lambda x: x.replace(',', '.')))\n",
    "                    \n",
    "                if \"line\" not in control_con and \"Filename\" not in control_con:\n",
    "                    df_con = pd.read_csv(path_con, sep=',')\n",
    "                    df_con['Timestamp'] = pd.to_datetime(df_con['Timestamp'])\n",
    "                    df_con.set_index('Timestamp', drop=True, inplace=True)\n",
    "                    df_con = df_con.sort_index(ascending = True)\n",
    "                    df_con.index = pd.to_datetime(df_con.index)\n",
    "                    df_con_Max = pd.to_numeric(df_con['Intensità di dose (μSv/h)'].apply(lambda x: x.replace(',', '.')))\n",
    "                    \n",
    "                \n",
    "                start_inj = df_inj_Max.index[0]\n",
    "                start_con = df_con_Max.index[0]\n",
    "\n",
    "                \n",
    "                delta = np.absolute(start_inj-start_con)\n",
    "                minutes_1 = delta.total_seconds() / 60\n",
    "                \n",
    "                if (float(minutes_1)>float(50)) and (start_inj > start_con):\n",
    "                    df_inj_Max.index = df_inj_Max.index - timedelta(minutes=58.4)\n",
    "                    \n",
    "                    \n",
    "                elif (float(minutes_1)>float(50)) and (start_inj < start_con):\n",
    "                    df_con_Max.index = df_con_Max.index - timedelta(minutes=58.4) \n",
    "                    \n",
    "                \n",
    "                substring = \"20_03\"\n",
    "                substring_1 = \"23_03\"\n",
    "\n",
    "                    \n",
    "                if substring in n or substring_1 in n:\n",
    "                    if n!=\"20_03_18F_01\" or n!=\"20_03_18F_05\" or n!=\"20_03_18F_02\":\n",
    "                        df_con_Max.index = df_con_Max.index + timedelta(minutes=3) \n",
    "                    \n",
    "                start_inj = df_inj_Max.index[0]\n",
    "                start_con = df_con_Max.index[0]\n",
    "                \n",
    "                if start_inj < start_con:\n",
    "                    df_con_1 = df_con_Max.loc[df_con_Max.index[0]:].reset_index(drop=True)\n",
    "                    df_inj_1 = df_inj_Max.loc[df_con_Max.index[0]:].reset_index(drop=True)\n",
    "                      \n",
    "                elif start_inj > start_con:\n",
    "                    df_con_1 = df_con_Max.loc[df_inj_Max.index[0]:].reset_index(drop=True)\n",
    "                    df_inj_1 = df_inj_Max.loc[df_inj_Max.index[0]:].reset_index(drop=True)\n",
    "                \n",
    "                elif start_inj == start_con:\n",
    "                    df_con_1 = df_con_Max.reset_index(drop=True)\n",
    "                    df_inj_1 = df_inj_Max.reset_index(drop=True)\n",
    "     \n",
    "                \n",
    "                \n",
    "                #diff = df_inj_1.diff()\n",
    "                #maximum = diff.max()\n",
    "                #maximum_time = diff.idxmax()\n",
    "                \n",
    "                maximum_time = df_inj_1.index[0]+120\n",
    "      \n",
    "                if n==\"09_10_177Lu_01\" or n==\"30_01_177Lu_01\":\n",
    "                    diff = df_inj_1.diff()\n",
    "                    maximum = diff.max()\n",
    "                    maximum_time = diff.idxmax()\n",
    "  \n",
    "                    \n",
    "                inj1 = df_inj_1.loc[maximum_time - 120: maximum_time + 900]\n",
    "                con1 = df_con_1.loc[maximum_time - 120: maximum_time + 900]\n",
    "                \n",
    "                inj1 = gaussian_filter(inj1, sigma=5)\n",
    "                con1 = gaussian_filter(con1, sigma=5)\n",
    "                \n",
    "               \n",
    "                \n",
    "                df_inj_2 = pd.DataFrame(inj1).reset_index(drop=True)\n",
    "                df_con_2 = pd.DataFrame(con1).reset_index(drop=True)\n",
    "            \n",
    "                df_inj_2.columns= [n]\n",
    "                df_con_2.columns= [n]\n",
    "\n",
    "\n",
    "                database_con = pd.concat([database_con, df_con_2], axis=1)\n",
    "                database_inj = pd.concat([database_inj, df_inj_2], axis=1)\n",
    "                \n",
    "#                 figure_name = n\n",
    "                \n",
    "#                 fig = plt.figure(figsize=(20,10))\n",
    "#                 plt.ioff()\n",
    "#                 plt.plot(database_inj[n],color='orange', linewidth= 3, label='Injection')\n",
    "#                 plt.plot(database_con[n],color= 'blue',linestyle = 'dashed', linewidth= 3, label='Contralateral')\n",
    "#                 plt.yscale('log')\n",
    "\n",
    "#                 plt.xlabel(\"Time [s]\", size = 30)\n",
    "#                 plt.ylabel(r\"Dose Rate [$\\mu$ Sv/h]\", size = 30)\n",
    "#                 plt.xticks(fontsize=30)\n",
    "#                 plt.yticks(fontsize=30)\n",
    "#                 plt.xlim((0,960))\n",
    "#                 plt.legend(fontsize=30)\n",
    "#                 fig.savefig(path_grafici+'/'+ figure_name+'.png')\n",
    "#                 plt.close()   "
   ]
  },
  {
   "cell_type": "code",
   "execution_count": null,
   "metadata": {},
   "outputs": [],
   "source": [
    "# creazione riga del dataframe con tutte le attività\n",
    "df_activity = pd.DataFrame(data = [activities], columns=names, index=['Activity (MBq)'])\n",
    "df_activity"
   ]
  },
  {
   "cell_type": "code",
   "execution_count": null,
   "metadata": {},
   "outputs": [],
   "source": [
    "#ci andiamo a calcolare tutti i valori delta t per ogni istante di tempo. In pratica delta t è definito come la differenza\n",
    "#tra il valore di dose acquisito sul braccio di iniezione e il valore di dose acquisito sul braccio controlaterale\n",
    "#allo stesso istante di tempo\n",
    "subset_inj = database_inj.iloc[60:len(database_inj)]\n",
    "subset_con = database_con.iloc[60:len(database_con)]\n",
    "subset_delta = np.abs(subset_inj - subset_con).reset_index(drop=True)"
   ]
  },
  {
   "cell_type": "code",
   "execution_count": null,
   "metadata": {},
   "outputs": [],
   "source": [
    "# Differenza tra delta t consecutivi, per vedere quanto decresce la differenza. Studiamo l'andamento delle differenze fra\n",
    "#i valori di dose di iniezione e controlaterali\n",
    "d = abs(subset_delta.diff())\n",
    "d.drop(0,inplace = True)\n",
    "d.reset_index(inplace = True)\n",
    "d.drop('index',axis=1,inplace=True)\n",
    "d"
   ]
  },
  {
   "cell_type": "code",
   "execution_count": null,
   "metadata": {},
   "outputs": [],
   "source": [
    "#crea la tabella con i valori di delta t trovati sopra\n",
    "#usiamo la differenza di dose allo stesso tempo tra iniezione e controlaterale\n",
    "risultati = pd.DataFrame()\n",
    "indice_iniziale = 60\n",
    "for paziente in d.head(0):\n",
    "    delta_dopo_plateau_60 = subset_delta[paziente].loc[indice_iniziale + 60] # / medie_timepoints[1]\n",
    "    delta_dopo_plateau_120 = subset_delta[paziente].loc[indice_iniziale + 120] # / medie_timepoints[2]\n",
    "    delta_dopo_plateau_180 = subset_delta[paziente].loc[indice_iniziale + 180] # / medie_timepoints[3]\n",
    "    delta_dopo_plateau_240 = subset_delta[paziente].loc[indice_iniziale + 240] # / medie_timepoints[4]\n",
    "    delta_dopo_plateau_300 = subset_delta[paziente].loc[indice_iniziale + 300] # / medie_timepoints[5]\n",
    "    delta_dopo_plateau_360 = subset_delta[paziente].loc[indice_iniziale + 360] # / medie_timepoints[6]\n",
    "    delta_dopo_plateau_480 = subset_delta[paziente].loc[indice_iniziale + 480] # / medie_timepoints[6]\n",
    "    delta_dopo_plateau_600 = subset_delta[paziente].loc[indice_iniziale + 600] # / medie_timepoints[6]\n",
    "    media_tempi = (delta_dopo_plateau_60+delta_dopo_plateau_120+delta_dopo_plateau_180+delta_dopo_plateau_240+delta_dopo_plateau_300+delta_dopo_plateau_360+delta_dopo_plateau_480+delta_dopo_plateau_600)/8\n",
    "    info = [delta_dopo_plateau_60, delta_dopo_plateau_120, delta_dopo_plateau_180, delta_dopo_plateau_240, delta_dopo_plateau_300, delta_dopo_plateau_360,delta_dopo_plateau_480,delta_dopo_plateau_600,media_tempi]\n",
    "    df = pd.DataFrame([info], index = [paziente], columns=['delta_dopo_1min', 'delta_dopo_2min' , 'delta_dopo_3min', 'delta_dopo_4min', 'delta_dopo_5min', 'delta_dopo_6min','delta_dopo_8min','delta_dopo_10min','media tempi'])\n",
    "    risultati= pd.concat([risultati, df], axis=0)"
   ]
  },
  {
   "cell_type": "code",
   "execution_count": null,
   "metadata": {},
   "outputs": [],
   "source": [
    "risultati"
   ]
  },
  {
   "cell_type": "code",
   "execution_count": null,
   "metadata": {},
   "outputs": [],
   "source": [
    "risultati.to_excel(\"C:/Users/39333/OneDrive - Università degli Studi di Padova/Documenti/Progetto Specialistica/Nuovi/acquisizioni 07 e 11-2023/risultati_terapia.xlsx\",sheet_name='sheet1', index=True)"
   ]
  },
  {
   "cell_type": "code",
   "execution_count": null,
   "metadata": {},
   "outputs": [],
   "source": []
  }
 ],
 "metadata": {
  "kernelspec": {
   "display_name": "Python 3 (ipykernel)",
   "language": "python",
   "name": "python3"
  },
  "language_info": {
   "codemirror_mode": {
    "name": "ipython",
    "version": 3
   },
   "file_extension": ".py",
   "mimetype": "text/x-python",
   "name": "python",
   "nbconvert_exporter": "python",
   "pygments_lexer": "ipython3",
   "version": "3.7.15"
  }
 },
 "nbformat": 4,
 "nbformat_minor": 2
}
